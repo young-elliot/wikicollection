{
 "cells": [
  {
   "cell_type": "code",
   "execution_count": 4,
   "metadata": {},
   "outputs": [],
   "source": [
    "a=[1595,28,52,5,190,73,13,9,14,5,1,633,8,236,151,13,2,1,33941,1,32,1275,2,3,40,1055,537,14,30,1,27,27,731,1,4,6,96,15,74,7,226,54,377,91,1,1,12,11,73,43,482,1663,63,3,5,58,13,123,24,9,1,40,1125,2,17,28,1,88,3,1,57,21,1358,3,7,323,5,4,2,11,7,1,5,2,1,697,2105,160,12,2,28,79,2,9,18,2,26,18,6,1,12,3,8,154,108,4,29,2,1187,112,1,8,10,1,119,3,113,80,21,7,387,409,1,290,22,3,1,8,92,13,5,45113,127,2,75,26,3306,9656,1,5,30,1630,2,917,1914,2,12,15,1541,25,85,38,2,51,53,40,3,19,1,32,5,7,16,4,9,10,7,199,2,34,30,1,15,3,26,1,32,1,1,67,68,2,29,128,12,6,1,7,18,113,65,11,71,8,6,8,9,4,2150,86,3,23,1,1,52,2,11,50,8,2,10,108,4,167,1,4179,46,6,58,1,3,52,1876,9,319,581,26,1,4,9]\n"
   ]
  },
  {
   "cell_type": "code",
   "execution_count": 37,
   "metadata": {},
   "outputs": [
    {
     "data": {
      "text/plain": [
       "129379"
      ]
     },
     "execution_count": 37,
     "metadata": {},
     "output_type": "execute_result"
    }
   ],
   "source": [
    "f=open('paintings-by-media.txt','r')\n",
    "d=f.read()\n",
    "\n",
    "aaa=0\n",
    "e=d.splitlines()\n",
    "for i in e:\n",
    "    aaa+=int(i.split(\",\")[-1])\n",
    "\n",
    "aaa"
   ]
  },
  {
   "cell_type": "code",
   "execution_count": 43,
   "metadata": {},
   "outputs": [
    {
     "name": "stdout",
     "output_type": "stream",
     "text": [
      "79614\n",
      "52060\n"
     ]
    }
   ],
   "source": [
    "import json\n",
    "f= open(\"paintingbystyle.json\", 'r') \n",
    "ee = json.loads(f.read())\n",
    "\n",
    "\n",
    "f= open(\"paintingbymedia.json\", 'r') \n",
    "ff = json.loads(f.read())\n",
    "style=[]\n",
    "for i in ee:\n",
    "    style+=ee[i]\n",
    "\n",
    "media=[]\n",
    "for i in ff:\n",
    "    media+=ff[i]\n",
    "\n",
    "print(len(style))\n",
    "\n",
    "print(len(media))\n"
   ]
  },
  {
   "cell_type": "code",
   "execution_count": 47,
   "metadata": {},
   "outputs": [
    {
     "data": {
      "text/plain": [
       "60525"
      ]
     },
     "execution_count": 47,
     "metadata": {},
     "output_type": "execute_result"
    }
   ],
   "source": [
    "len(set(style)-set(media))"
   ]
  },
  {
   "cell_type": "code",
   "execution_count": 49,
   "metadata": {},
   "outputs": [
    {
     "data": {
      "text/plain": [
       "71082"
      ]
     },
     "execution_count": 49,
     "metadata": {},
     "output_type": "execute_result"
    }
   ],
   "source": [
    "\n",
    "f= open(\"data.json\", 'r',encoding=\"utf8\") \n",
    "dd = json.loads(f.read())\n",
    "\n",
    "len(dd)\n"
   ]
  },
  {
   "cell_type": "code",
   "execution_count": 42,
   "metadata": {},
   "outputs": [
    {
     "name": "stdout",
     "output_type": "stream",
     "text": [
      "early-dynastic-period 2 1595\n",
      "old-kingdom 1 28\n",
      "middle-kingdom 9 52\n",
      "amarna 12 190\n",
      "3rd-intermediate-period 16 73\n",
      "late-period 4 13\n",
      "ptolemaic 4 9\n",
      "2nd-intermediate-period 1 14\n",
      "hellenistic-period 135 633\n",
      "early-christian 1 236\n",
      "early-byzantine-c-330-750 109 151\n",
      "latin-empire-of-constantinople-1204-1261 29 33941\n",
      "macedonian-renaissance-867-1056 95 1275\n",
      "gothic 34 40\n",
      "international-gothic 329 1055\n",
      "viking-art 67 537\n",
      "crusader-workshop 13 30\n",
      "cretan-school-of-icon-painting 12 27\n",
      "macedonian-school-of-icon-painting 2 27\n",
      "coptic-art 78 731\n",
      "vladimir-school-of-icon-painting 4 6\n",
      "galicia-volyn-school 21 96\n",
      "pskov-school-of-icon-painting 6 15\n",
      "yaroslavl-school-of-icon-painting 14 74\n",
      "vologda-school-of-icon-painting 6 7\n",
      "chernihiv-school-of-icon-painting 4 226\n",
      "early-renaissance 0 377\n",
      "high-renaissance 0 91\n",
      "northern-renaissance 0 1\n",
      "baroque 0 11\n",
      "tenebrism 0 73\n",
      "rococo 0 43\n",
      "classicism 0 482\n",
      "neoclassicism 0 1663\n",
      "academicism 0 63\n",
      "orientalism 0 5\n",
      "neo-rococo 101 123\n",
      "naturalism 881 1125\n",
      "surrealism 0 88\n",
      "divisionism 0 5\n",
      "abstract-art 0 4\n",
      "art-deco 0 5\n",
      "regionalism 580 697\n",
      "socialist-realism 755 2105\n",
      "synthetism 78 160\n",
      "fauvism 0 28\n",
      "art-nouveau-modern 0 2\n",
      "miserablism 9 12\n",
      "abstract-expressionism 0 8\n",
      "cubism 0 154\n",
      "hard-edge-painting 0 29\n",
      "synchromism 16 387\n",
      "performance-art 103 409\n",
      "transautomatism 83 290\n",
      "constructivism 0 92\n",
      "severe-style 10 13\n",
      "spectralism 5 45113\n",
      "fiber-art 0 127\n",
      "mail-art 18 75\n",
      "analytical-realism 90 3306\n",
      "outsider-art 0 9656\n",
      "art-brut 0 1\n",
      "perceptism 8 917\n",
      "neo-figurative-art 696 1914\n",
      "op-art 1222 1541\n",
      "pop-art 0 25\n",
      "environmental-land-art 0 19\n",
      "graffiti-art 1 15\n",
      "excessivism 25 67\n",
      "fantasy-art 126 128\n",
      "sky-art 3 12\n",
      "new-media-art 1 7\n",
      "queer-art 57 65\n",
      "gongbi 0 11\n",
      "yamato-e 47 2150\n",
      "kano-school 15 86\n",
      "abbasid-period 16 52\n",
      "folk-art 24 167\n",
      "new-ink-painting 44 4179\n"
     ]
    },
    {
     "data": {
      "text/plain": [
       "79614"
      ]
     },
     "execution_count": 42,
     "metadata": {},
     "output_type": "execute_result"
    }
   ],
   "source": [
    "import json\n",
    "eee=0\n",
    "with open(\"paintingbystyle.json\", 'r') as f:\n",
    "    temp = json.loads(f.read())\n",
    "    j=0\n",
    "    for i in temp:\n",
    "        \n",
    "        # print()\n",
    "        # print(len(temp[i]))\n",
    "        if (int(e[j].split(\",\")[-1]))>len(temp[i]):\n",
    "            print(i,len(temp[i]),int(e[j].split(\",\")[-1]))\n",
    "        eee+=len(temp[i])\n",
    "        j+=1\n",
    "        # break\n",
    "            \n",
    "eee"
   ]
  },
  {
   "cell_type": "code",
   "execution_count": 39,
   "metadata": {},
   "outputs": [
    {
     "name": "stdout",
     "output_type": "stream",
     "text": [
      "0\n",
      "1\n",
      "2\n",
      "3\n",
      "4\n",
      "5\n",
      "6\n",
      "7\n",
      "8\n",
      "9\n",
      "10\n",
      "11\n",
      "12\n",
      "13\n",
      "14\n",
      "15\n",
      "16\n",
      "17\n",
      "18\n",
      "19\n",
      "20\n",
      "21\n",
      "22\n",
      "23\n",
      "24\n",
      "25\n",
      "26\n",
      "27\n",
      "28\n",
      "29\n"
     ]
    }
   ],
   "source": [
    "for i in range(30):\n",
    "    print(i)"
   ]
  },
  {
   "cell_type": "code",
   "execution_count": 5,
   "metadata": {},
   "outputs": [],
   "source": [
    "f=open('paintings-by-media.txt','r')\n",
    "d=f.read()\n",
    "\n",
    "e=d.splitlines()\n",
    "for i in range(len(a)):\n",
    "    e[i]+=\",\"+str(a[i])+\"\\n\"\n",
    "    \n"
   ]
  },
  {
   "cell_type": "code",
   "execution_count": 6,
   "metadata": {},
   "outputs": [],
   "source": [
    "with open(\"paintings-by-media.txt\",\"w\") as f:\n",
    "    f.writelines(e)"
   ]
  }
 ],
 "metadata": {
  "kernelspec": {
   "display_name": "Python 3.8.12 ('base')",
   "language": "python",
   "name": "python3"
  },
  "language_info": {
   "codemirror_mode": {
    "name": "ipython",
    "version": 3
   },
   "file_extension": ".py",
   "mimetype": "text/x-python",
   "name": "python",
   "nbconvert_exporter": "python",
   "pygments_lexer": "ipython3",
   "version": "3.8.12"
  },
  "orig_nbformat": 4,
  "vscode": {
   "interpreter": {
    "hash": "4659750b3fb5b2def1c798fdcacfe9b0328978747a983fabc5e1c2e22a0b35e6"
   }
  }
 },
 "nbformat": 4,
 "nbformat_minor": 2
}
